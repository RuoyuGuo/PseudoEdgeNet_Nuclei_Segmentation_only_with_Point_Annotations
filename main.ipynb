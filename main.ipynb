{
 "cells": [
  {
   "cell_type": "code",
   "execution_count": 1,
   "metadata": {
    "colab": {
     "base_uri": "https://localhost:8080/",
     "height": 34
    },
    "colab_type": "code",
    "executionInfo": {
     "elapsed": 15426,
     "status": "ok",
     "timestamp": 1600308274667,
     "user": {
      "displayName": "Ruoyu Guo",
      "photoUrl": "",
      "userId": "04581381181241407497"
     },
     "user_tz": -600
    },
    "id": "mNUfFPnLRPMs",
    "outputId": "a3d38abe-9c73-4d61-bdde-9577c2d0ef12"
   },
   "outputs": [
    {
     "name": "stdout",
     "output_type": "stream",
     "text": [
      "0.4.0\n"
     ]
    }
   ],
   "source": [
    "from libs import full_model\n",
    "from libs import getData\n",
    "from libs import dataAug\n",
    "\n",
    "from tensorflow import keras\n",
    "from tensorflow.keras import Model\n",
    "from tensorflow.keras import backend as K\n",
    "from tensorflow.keras.optimizers import Adam\n",
    "from tensorflow.keras import callbacks\n",
    "from sklearn.model_selection import train_test_split\n",
    "from sklearn.model_selection import KFold\n",
    "from matplotlib import pyplot as plt\n",
    "\n",
    "import tensorflow as tf\n",
    "import numpy as np\n",
    "import cv2 as cv\n",
    "import os\n",
    "import pickle"
   ]
  },
  {
   "cell_type": "code",
   "execution_count": 2,
   "metadata": {
    "colab": {},
    "colab_type": "code",
    "executionInfo": {
     "elapsed": 1269,
     "status": "ok",
     "timestamp": 1600308279652,
     "user": {
      "displayName": "Ruoyu Guo",
      "photoUrl": "",
      "userId": "04581381181241407497"
     },
     "user_tz": -600
    },
    "id": "OQ0VFk72RPMu"
   },
   "outputs": [],
   "source": [
    "#global variables\n",
    "lambda_value = 1 \n",
    "patience = 4\n",
    "k_fold = 10\n",
    "seed = 12\n",
    "lr = 0.001\n",
    "my_adam = Adam(learning_rate=lr)\n",
    "\n",
    "img_path = './dataset/Tissue images/'\n",
    "label_path = './dataset/Annotations/'\n",
    "data_ids = [i[:-4] for i in os.listdir(img_path)]"
   ]
  },
  {
   "cell_type": "markdown",
   "metadata": {
    "colab_type": "text",
    "id": "DwtJVs9QRPM1"
   },
   "source": [
    "## get data"
   ]
  },
  {
   "cell_type": "code",
   "execution_count": 3,
   "metadata": {
    "colab": {
     "base_uri": "https://localhost:8080/",
     "height": 119
    },
    "colab_type": "code",
    "executionInfo": {
     "elapsed": 79572,
     "status": "ok",
     "timestamp": 1600308362003,
     "user": {
      "displayName": "Ruoyu Guo",
      "photoUrl": "",
      "userId": "04581381181241407497"
     },
     "user_tz": -600
    },
    "id": "Dw3fScewRPM2",
    "outputId": "4fce571c-ea3f-4e4a-d185-f6124360ce7c"
   },
   "outputs": [
    {
     "name": "stdout",
     "output_type": "stream",
     "text": [
      "Reading image...\n"
     ]
    },
    {
     "name": "stderr",
     "output_type": "stream",
     "text": [
      "100%|██████████| 30/30 [00:00<00:00, 32.30it/s]"
     ]
    },
    {
     "name": "stdout",
     "output_type": "stream",
     "text": [
      "Done!\n",
      "Generating point annotation...\n"
     ]
    },
    {
     "name": "stderr",
     "output_type": "stream",
     "text": [
      "\n",
      " 17%|█▋        | 5/30 [00:05<00:27,  1.10s/it]\n"
     ]
    },
    {
     "ename": "KeyboardInterrupt",
     "evalue": "",
     "output_type": "error",
     "traceback": [
      "\u001b[0;31m---------------------------------------------------------------------------\u001b[0m",
      "\u001b[0;31mKeyboardInterrupt\u001b[0m                         Traceback (most recent call last)",
      "\u001b[0;32m<ipython-input-3-bb7265b14042>\u001b[0m in \u001b[0;36m<module>\u001b[0;34m\u001b[0m\n\u001b[0;32m----> 1\u001b[0;31m \u001b[0mX_data\u001b[0m\u001b[0;34m,\u001b[0m \u001b[0mY_data\u001b[0m \u001b[0;34m=\u001b[0m \u001b[0mgetData\u001b[0m\u001b[0;34m.\u001b[0m\u001b[0mdata\u001b[0m\u001b[0;34m(\u001b[0m\u001b[0mimg_path\u001b[0m\u001b[0;34m,\u001b[0m \u001b[0mlabel_path\u001b[0m\u001b[0;34m,\u001b[0m \u001b[0mdata_ids\u001b[0m\u001b[0;34m)\u001b[0m\u001b[0;34m\u001b[0m\u001b[0;34m\u001b[0m\u001b[0m\n\u001b[0m",
      "\u001b[0;32m/floyd/home/libs/getData.py\u001b[0m in \u001b[0;36mdata\u001b[0;34m(img_path, label_path, data_ids)\u001b[0m\n\u001b[1;32m    162\u001b[0m \u001b[0;34m\u001b[0m\u001b[0m\n\u001b[1;32m    163\u001b[0m     \u001b[0;32mreturn\u001b[0m \u001b[0m_get_img_data\u001b[0m\u001b[0;34m(\u001b[0m\u001b[0mimg_path\u001b[0m\u001b[0;34m,\u001b[0m \u001b[0mdata_ids\u001b[0m\u001b[0;34m)\u001b[0m\u001b[0;34m,\u001b[0m\u001b[0;31m \u001b[0m\u001b[0;31m\\\u001b[0m\u001b[0;34m\u001b[0m\u001b[0;34m\u001b[0m\u001b[0m\n\u001b[0;32m--> 164\u001b[0;31m         \u001b[0m_get_point_annos_data\u001b[0m\u001b[0;34m(\u001b[0m\u001b[0mlabel_path\u001b[0m\u001b[0;34m,\u001b[0m \u001b[0mdata_ids\u001b[0m\u001b[0;34m)\u001b[0m\u001b[0;34m\u001b[0m\u001b[0;34m\u001b[0m\u001b[0m\n\u001b[0m",
      "\u001b[0;32m/floyd/home/libs/getData.py\u001b[0m in \u001b[0;36m_get_point_annos_data\u001b[0;34m(path, data_ids)\u001b[0m\n\u001b[1;32m    122\u001b[0m     \u001b[0msys\u001b[0m\u001b[0;34m.\u001b[0m\u001b[0mstdout\u001b[0m\u001b[0;34m.\u001b[0m\u001b[0mflush\u001b[0m\u001b[0;34m(\u001b[0m\u001b[0;34m)\u001b[0m\u001b[0;34m\u001b[0m\u001b[0;34m\u001b[0m\u001b[0m\n\u001b[1;32m    123\u001b[0m     \u001b[0;32mfor\u001b[0m \u001b[0mi\u001b[0m \u001b[0;32min\u001b[0m \u001b[0mtqdm\u001b[0m\u001b[0;34m(\u001b[0m\u001b[0mrange\u001b[0m\u001b[0;34m(\u001b[0m\u001b[0mlen\u001b[0m\u001b[0;34m(\u001b[0m\u001b[0mdata_ids\u001b[0m\u001b[0;34m)\u001b[0m\u001b[0;34m)\u001b[0m\u001b[0;34m,\u001b[0m \u001b[0mtotal\u001b[0m\u001b[0;34m=\u001b[0m\u001b[0mlen\u001b[0m\u001b[0;34m(\u001b[0m\u001b[0mdata_ids\u001b[0m\u001b[0;34m)\u001b[0m\u001b[0;34m)\u001b[0m\u001b[0;34m:\u001b[0m\u001b[0;34m\u001b[0m\u001b[0;34m\u001b[0m\u001b[0m\n\u001b[0;32m--> 124\u001b[0;31m         \u001b[0mimg\u001b[0m \u001b[0;34m=\u001b[0m \u001b[0m_get_binary_image\u001b[0m\u001b[0;34m(\u001b[0m\u001b[0mos\u001b[0m\u001b[0;34m.\u001b[0m\u001b[0mpath\u001b[0m\u001b[0;34m.\u001b[0m\u001b[0mjoin\u001b[0m\u001b[0;34m(\u001b[0m\u001b[0mpath\u001b[0m\u001b[0;34m,\u001b[0m \u001b[0mdata_ids\u001b[0m\u001b[0;34m[\u001b[0m\u001b[0mi\u001b[0m\u001b[0;34m]\u001b[0m\u001b[0;34m+\u001b[0m\u001b[0;34m'.xml'\u001b[0m\u001b[0;34m)\u001b[0m\u001b[0;34m)\u001b[0m\u001b[0;34m\u001b[0m\u001b[0;34m\u001b[0m\u001b[0m\n\u001b[0m\u001b[1;32m    125\u001b[0m         \u001b[0moutput\u001b[0m\u001b[0;34m[\u001b[0m\u001b[0mi\u001b[0m\u001b[0;34m]\u001b[0m \u001b[0;34m=\u001b[0m \u001b[0mimg\u001b[0m\u001b[0;34m\u001b[0m\u001b[0;34m\u001b[0m\u001b[0m\n\u001b[1;32m    126\u001b[0m     \u001b[0mprint\u001b[0m\u001b[0;34m(\u001b[0m\u001b[0;34m'Done!'\u001b[0m\u001b[0;34m)\u001b[0m\u001b[0;34m\u001b[0m\u001b[0;34m\u001b[0m\u001b[0m\n",
      "\u001b[0;32m/floyd/home/libs/getData.py\u001b[0m in \u001b[0;36m_get_binary_image\u001b[0;34m(path)\u001b[0m\n\u001b[1;32m    100\u001b[0m         \u001b[0mcv\u001b[0m\u001b[0;34m.\u001b[0m\u001b[0mpolylines\u001b[0m\u001b[0;34m(\u001b[0m\u001b[0mimg2\u001b[0m\u001b[0;34m,\u001b[0m \u001b[0;34m[\u001b[0m\u001b[0me\u001b[0m\u001b[0;34m.\u001b[0m\u001b[0mastype\u001b[0m\u001b[0;34m(\u001b[0m\u001b[0mnp\u001b[0m\u001b[0;34m.\u001b[0m\u001b[0mint\u001b[0m\u001b[0;34m)\u001b[0m\u001b[0;34m]\u001b[0m\u001b[0;34m,\u001b[0m \u001b[0;32mTrue\u001b[0m\u001b[0;34m,\u001b[0m \u001b[0;36m1\u001b[0m\u001b[0;34m)\u001b[0m\u001b[0;34m\u001b[0m\u001b[0;34m\u001b[0m\u001b[0m\n\u001b[1;32m    101\u001b[0m \u001b[0;34m\u001b[0m\u001b[0m\n\u001b[0;32m--> 102\u001b[0;31m     \u001b[0mcv\u001b[0m\u001b[0;34m.\u001b[0m\u001b[0mdrawContours\u001b[0m\u001b[0;34m(\u001b[0m\u001b[0mimg3\u001b[0m\u001b[0;34m,\u001b[0m \u001b[0mcnts\u001b[0m\u001b[0;34m,\u001b[0m \u001b[0;34m-\u001b[0m\u001b[0;36m1\u001b[0m\u001b[0;34m,\u001b[0m \u001b[0;36m1\u001b[0m\u001b[0;34m,\u001b[0m \u001b[0;34m-\u001b[0m\u001b[0;36m1\u001b[0m\u001b[0;34m)\u001b[0m\u001b[0;34m\u001b[0m\u001b[0;34m\u001b[0m\u001b[0m\n\u001b[0m\u001b[1;32m    103\u001b[0m \u001b[0;34m\u001b[0m\u001b[0m\n\u001b[1;32m    104\u001b[0m     \u001b[0mimg\u001b[0m\u001b[0;34m[\u001b[0m\u001b[0;34m:\u001b[0m\u001b[0;34m,\u001b[0m \u001b[0;34m:\u001b[0m\u001b[0;34m,\u001b[0m \u001b[0;36m1\u001b[0m\u001b[0;34m]\u001b[0m \u001b[0;34m=\u001b[0m \u001b[0mimg2\u001b[0m\u001b[0;34m\u001b[0m\u001b[0;34m\u001b[0m\u001b[0m\n",
      "\u001b[0;31mKeyboardInterrupt\u001b[0m: "
     ]
    }
   ],
   "source": [
    "X_data, Y_data = getData.data(img_path, label_path, data_ids)"
   ]
  },
  {
   "cell_type": "code",
   "execution_count": null,
   "metadata": {
    "colab": {
     "base_uri": "https://localhost:8080/",
     "height": 972,
     "output_embedded_package_id": "1wNbwMTsgaildmM5JyqCC89ri28HnWzdi"
    },
    "colab_type": "code",
    "executionInfo": {
     "elapsed": 7019,
     "status": "ok",
     "timestamp": 1600306336333,
     "user": {
      "displayName": "Ruoyu Guo",
      "photoUrl": "",
      "userId": "04581381181241407497"
     },
     "user_tz": -600
    },
    "id": "zLJBl7FDRPM4",
    "outputId": "5e12946e-43c3-478b-b65b-174f3adce345"
   },
   "outputs": [],
   "source": [
    "fig, axs = plt.subplots(2, 3, figsize=(50, 30))\n",
    "look_at = np.random.choice(30, 3, replace=False)\n",
    "\n",
    "for j in range(3):\n",
    "    axs[0][j].imshow(X_data[look_at[j]])\n",
    "    axs[1][j].imshow(Y_data[look_at[j],:,:,2] + Y_data[look_at[j],:,:,1] + \\\n",
    "                Y_data[look_at[j],:,:,0], cmap='gray')\n",
    "\n",
    "plt.show()"
   ]
  },
  {
   "cell_type": "markdown",
   "metadata": {
    "colab_type": "text",
    "id": "cxcli7I0RPNB"
   },
   "source": [
    "## data split"
   ]
  },
  {
   "cell_type": "code",
   "execution_count": null,
   "metadata": {
    "colab": {
     "base_uri": "https://localhost:8080/",
     "height": 102
    },
    "colab_type": "code",
    "executionInfo": {
     "elapsed": 692,
     "status": "ok",
     "timestamp": 1600308396894,
     "user": {
      "displayName": "Ruoyu Guo",
      "photoUrl": "",
      "userId": "04581381181241407497"
     },
     "user_tz": -600
    },
    "id": "H7ebnmO_Zad4",
    "outputId": "fc8afaa7-8447-4f45-e6a4-d84703a4d03d"
   },
   "outputs": [],
   "source": [
    "#test data is never change.\n",
    "X_train, X_test, y_train, y_test = train_test_split(X_data, Y_data, test_size=0.1, random_state=seed)\n",
    "X_test, y_test = (X_test.astype(np.float32))/255, y_test.astype(np.float32)\n",
    "\n",
    "X_train.shape, X_test.shape, y_train.shape, y_test.shape, X_train.dtype"
   ]
  },
  {
   "cell_type": "code",
   "execution_count": null,
   "metadata": {},
   "outputs": [],
   "source": [
    "fig, axs = plt.subplots(1, 3, figsize=(20, 8))\n",
    "\n",
    "axs[0].imshow(X_test[0])\n",
    "axs[1].imshow(X_test[1])\n",
    "axs[2].imshow(X_test[2])\n",
    "\n",
    "plt.show()"
   ]
  },
  {
   "cell_type": "markdown",
   "metadata": {},
   "source": [
    "# 10 fold validation"
   ]
  },
  {
   "cell_type": "code",
   "execution_count": null,
   "metadata": {},
   "outputs": [],
   "source": [
    "kf = KFold(n_splits=9)\n",
    "train_indexs = []\n",
    "val_indexs = []\n",
    "\n",
    "for train_index, val_index in kf.split(X_train):\n",
    "    train_indexs.append(train_index)\n",
    "    val_indexs.append(val_index)"
   ]
  },
  {
   "cell_type": "code",
   "execution_count": null,
   "metadata": {},
   "outputs": [],
   "source": [
    "i=1\n",
    "\n",
    "reduce_lr = callbacks.ReduceLROnPlateau(monitor='val_loss', factor=0.5,\n",
    "                              patience=5)\n",
    "\n",
    "\n",
    "cp_path = f'./old_model/{i}'\n",
    "model_cp = callbacks.ModelCheckpoint(filepath=os.path.join(cp_path, 'fpn_w_attention.{val_loss:.4f}.h5'), \\\n",
    "                                     monitor='val_loss', save_best_only=True)\n",
    "'''\n",
    "------------------dataset split---------------------------\n",
    "'''\n",
    "print()\n",
    "print(f'{i} validation')\n",
    "\n",
    "X_train_new, y_train_new, X_val, y_val = X_train[train_indexs[i]], y_train[train_indexs[i]], \\\n",
    "                                            X_train[val_indexs[i]], y_train[val_indexs[i]]\n",
    "\n",
    "print('after split: ',X_train_new.shape, X_train.shape)\n",
    "X_train_new, y_train_new = dataAug.myDataAug(X_train_new, y_train_new, 4)\n",
    "\n",
    "print('after aug:', X_train_new.shape, X_train.shape)\n",
    "\n",
    "X_train_new, y_train_new, X_val, y_val = \\\n",
    "                X_train_new.astype(np.float32), y_train_new.astype(np.float32), \\\n",
    "                X_val.astype(np.float32), y_val.astype(np.float32)\n",
    "\n",
    "X_train_new, X_val = X_train_new/255, X_val/255\n",
    "\n",
    "'''\n",
    "------------------training---------------------------\n",
    "'''\n",
    "# Free up RAM in case the model definition cells were run multiple times\n",
    "keras.backend.clear_session()\n",
    "\n",
    "#load model\n",
    "model = full_model.get_model()\n",
    "#model.summary()\n",
    "\n",
    "losses = {\n",
    "    'rs50_final_conv2_sigmoid': full_model.loss1,\n",
    "    'second_term_sub' : full_model.loss2\n",
    "}\n",
    "model.compile(optimizer=my_adam, \n",
    "              loss=  losses , \n",
    "              metrics={'rs50_final_conv2_sigmoid': full_model.my_IoU})\n",
    "\n",
    "history = model.fit(X_train_new, [y_train_new, y_train_new], validation_data=(X_val, y_val), batch_size=2, epochs=60, callbacks=[reduce_lr, model_cp])\n",
    "\n",
    "'''\n",
    "----------------------saving logs-----------------------\n",
    "'''    \n",
    "with open(os.path.join(cp_path, 'fpn_w_attention_history'), 'wb') as file_pi:\n",
    "    pickle.dump(history.history, file_pi)"
   ]
  },
  {
   "cell_type": "markdown",
   "metadata": {
    "colab_type": "text",
    "id": "CQpwPoykj7Zf"
   },
   "source": [
    "# Show results"
   ]
  },
  {
   "cell_type": "code",
   "execution_count": null,
   "metadata": {
    "colab": {},
    "colab_type": "code",
    "id": "7rU_CR9Rkqpb"
   },
   "outputs": [],
   "source": [
    "fig, axs = plt.subplots(2, 3, figsize=(40, 20))\n",
    "\n",
    "for i,j in emurator(axs.faltten()):\n",
    "    j.imshow(X_data[look_at[i]])\n",
    "    j.imshow(Y_data[look_at[i],:,:,2] + Y_data[look_at[i],:,:,1] + \\\n",
    "            Y_data[look_at[i],:,:,0], cmap='gray')\n",
    "\n",
    "plt.show()"
   ]
  },
  {
   "cell_type": "code",
   "execution_count": null,
   "metadata": {
    "colab": {},
    "colab_type": "code",
    "id": "Io2kfUkeRPNV",
    "outputId": "a30e4c74-dce1-4842-cd4e-de4f011fea71"
   },
   "outputs": [],
   "source": [
    "look_at = np.random.choice(30, 3, replace=False)\n",
    "\n",
    "re = model.predict([X_train[look_at]])\n",
    "\n",
    "\n",
    "fig, axs = plt.subplots(1, 3, figsize=(20, 16))\n",
    "\n",
    "axs[0].imshow(X_train[my_id])\n",
    "axs[1].imshow(y_train[my_id,:,:,2].astype(np.uint8), cmap='gray')\n",
    "axs[2].imshow(a, cmap='gray')"
   ]
  },
  {
   "cell_type": "code",
   "execution_count": null,
   "metadata": {
    "colab": {
     "base_uri": "https://localhost:8080/",
     "height": 431
    },
    "colab_type": "code",
    "executionInfo": {
     "elapsed": 3718,
     "status": "ok",
     "timestamp": 1600240316477,
     "user": {
      "displayName": "Ruoyu Guo",
      "photoUrl": "",
      "userId": "04581381181241407497"
     },
     "user_tz": -600
    },
    "id": "Uq58SfjiRPNX",
    "outputId": "82228772-0eaf-483e-cd88-1edb5a1bcbf7"
   },
   "outputs": [],
   "source": [
    "my_id = 2\n",
    "print(X_val[my_id].shape)\n",
    "re = model.predict(np.array([X_val[my_id]]))\n",
    "a = re[0][0,:,:,0]\n",
    "a[a < 0.5] = 0\n",
    "a[a != 0] = 1\n",
    "print(np.sum(a))\n",
    "\n",
    "fig, axs = plt.subplots(1, 3, figsize=(20, 16))\n",
    "\n",
    "axs[0].imshow(X_val[my_id])\n",
    "axs[1].imshow(y_val[my_id,:,:,2].astype(np.uint8), cmap='gray')\n",
    "axs[2].imshow(a, cmap='gray')"
   ]
  },
  {
   "cell_type": "code",
   "execution_count": null,
   "metadata": {
    "colab": {},
    "colab_type": "code",
    "id": "oqRNYkWLRPNZ"
   },
   "outputs": [],
   "source": [
    "X_data[my_id].shape"
   ]
  },
  {
   "cell_type": "code",
   "execution_count": null,
   "metadata": {
    "colab": {},
    "colab_type": "code",
    "id": "wUIHtpYSRPNb"
   },
   "outputs": [],
   "source": [
    "model.evaluate(X_test, y_test)"
   ]
  }
 ],
 "metadata": {
  "accelerator": "GPU",
  "colab": {
   "collapsed_sections": [
    "4ZERdoY7RPM6"
   ],
   "machine_shape": "hm",
   "name": "main.ipynb",
   "provenance": [],
   "toc_visible": true
  },
  "kernelspec": {
   "display_name": "Python 3",
   "language": "python",
   "name": "python3"
  },
  "language_info": {
   "codemirror_mode": {
    "name": "ipython",
    "version": 3
   },
   "file_extension": ".py",
   "mimetype": "text/x-python",
   "name": "python",
   "nbconvert_exporter": "python",
   "pygments_lexer": "ipython3",
   "version": "3.7.7"
  }
 },
 "nbformat": 4,
 "nbformat_minor": 4
}
