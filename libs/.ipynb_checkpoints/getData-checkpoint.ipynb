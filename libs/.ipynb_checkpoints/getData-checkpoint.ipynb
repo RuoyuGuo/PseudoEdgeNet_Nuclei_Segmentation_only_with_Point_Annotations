{
 "cells": [
  {
   "cell_type": "code",
   "execution_count": 106,
   "metadata": {},
   "outputs": [],
   "source": [
    "import xml.etree.ElementTree as ET\n",
    "import cv2 as cv\n",
    "import numpy as np\n",
    "import os\n",
    "import sys\n",
    "\n",
    "from tqdm import tqdm"
   ]
  },
  {
   "cell_type": "code",
   "execution_count": 107,
   "metadata": {},
   "outputs": [],
   "source": [
    "def _get_centroid(cnt):\n",
    "    '''\n",
    "    return centroid coordinate of a nucleus\n",
    "    using cv moment\n",
    "    '''\n",
    "    #Arguments:\n",
    "    #cnt: a N * 1 * 2 numpy array, where N is the number of pixel in contour\n",
    "    \n",
    "    M = cv.moments(cnt)\n",
    "    \n",
    "    cX = 0\n",
    "    cY = 0\n",
    "    \n",
    "    if M[\"m00\"] != 0:\n",
    "        cX = int(M[\"m10\"] / M[\"m00\"])\n",
    "        cY = int(M[\"m01\"] / M[\"m00\"])\n",
    "        \n",
    "    return cX, cY\n",
    "\n",
    "def _get_binary_image(path):\n",
    "    '''\n",
    "    read xml file from path\n",
    "    return a binary image of centroids\n",
    "    '''\n",
    "\n",
    "    #Arguments:\n",
    "    #path: path that contain train label(xml file)\n",
    "    \n",
    "    #read xml file\n",
    "    tree = ET.parse(path)\n",
    "    root = tree.getroot()\n",
    "    annos = []\n",
    "    \n",
    "    #get edge annotation coordinates\n",
    "    for region in root.iter('Region'):\n",
    "        annos.append(region)\n",
    "\n",
    "    cnts = []                             #store contour coordinates of each nucleus\n",
    "    img = np.zeros((1000, 1000), dtype=np.bool_)\n",
    "    #ctds = []                             #store centroid coordinates of each nucleus\n",
    "\n",
    "    #get contour and centroid of each nucleus\n",
    "    for region in annos:\n",
    "        cnt = []\n",
    "\n",
    "        for vertex in region.iter('Vertex'):\n",
    "            cnt.append((np.float32(vertex.attrib['X']), np.float32(vertex.attrib['Y'])))\n",
    "\n",
    "        cnt = np.array(cnt)\n",
    "        cnt = cnt[:, np.newaxis, :]\n",
    "        ctd = _get_centroid(cnt)\n",
    "\n",
    "        cnts.append(cnt.astype(np.int32))\n",
    "        img[ctd[0], ctd[1]] = 1\n",
    "        #ctds.append(ctd)\n",
    "    \n",
    "    return img\n",
    "    \n",
    "def _get_point_annos_data(path, data_ids):\n",
    "    '''\n",
    "    Generate point annotation binary image\n",
    "    '''\n",
    "    \n",
    "    #Arguments:\n",
    "    #path: path that contain labels\n",
    "    #data_ids: data id(without filename extension)\n",
    "    \n",
    "    output = np.zeros((len(data_ids), 1000, 1000), dtype=np.bool_)\n",
    "    \n",
    "    #write point annotation of each image \n",
    "    print('Generating point annotation...')\n",
    "    sys.stdout.flush()\n",
    "    for i in tqdm(range(len(data_ids)), total=len(data_ids)):\n",
    "        img = _get_binary_image(os.path.join(path, data_ids[i]+'.xml'))\n",
    "        output[i] = img\n",
    "    print('Done!')\n",
    "\n",
    "    return output\n",
    "\n",
    "def _get_img_data(path, data_ids):\n",
    "    '''\n",
    "    read image in rgb format and return\n",
    "    '''\n",
    "\n",
    "    #Arguments:\n",
    "    #path: path that contain image\n",
    "    #data_ids: data id(without filename extension)\n",
    "    \n",
    "    output = np.zeros((len(data_ids), 1000, 1000, 3), dtype=np.uint8)\n",
    "    \n",
    "    #read image\n",
    "    print('Reading image...')\n",
    "    sys.stdout.flush()\n",
    "    for i in tqdm(range(len(data_ids)), total=len(data_ids)):\n",
    "        img = cv.imread(os.path.join(path, data_ids[i]+'.png'))\n",
    "        img = cv.cvtColor(img, cv.COLOR_BGR2RGB)\n",
    "        output[i] = img\n",
    "    print('Done!')\n",
    "    \n",
    "    return output\n",
    "    \n",
    "    \n",
    "def data(img_path, label_path, data_ids):\n",
    "    '''\n",
    "    return image data(X) and label data(Y)\n",
    "    '''\n",
    "\n",
    "    #Arguments:\n",
    "    #img_path: path that contain image\n",
    "    #label_path: path that contain label\n",
    "    #data_ids: data id(without filename extension)\n",
    "\n",
    "    return get_img_data(img_path, data_ids), \\\n",
    "        get_point_annos_data(label_path, data_ids)"
   ]
  },
  {
   "cell_type": "code",
   "execution_count": 108,
   "metadata": {},
   "outputs": [],
   "source": [
    "img_path = '../dataset/Tissue images/'\n",
    "label_path = '../dataset/Annotations/'\n",
    "data_ids = [i[:-4] for i in os.listdir(img_path)]"
   ]
  },
  {
   "cell_type": "code",
   "execution_count": 109,
   "metadata": {},
   "outputs": [
    {
     "name": "stdout",
     "output_type": "stream",
     "text": [
      "Reading image...\n"
     ]
    },
    {
     "name": "stderr",
     "output_type": "stream",
     "text": [
      "100%|██████████████████████████████████████████████████████████████████████████████████| 30/30 [00:00<00:00, 31.69it/s]"
     ]
    },
    {
     "name": "stdout",
     "output_type": "stream",
     "text": [
      "Done!\n",
      "Generating point annotation...\n"
     ]
    },
    {
     "name": "stderr",
     "output_type": "stream",
     "text": [
      "\n",
      "100%|██████████████████████████████████████████████████████████████████████████████████| 30/30 [00:21<00:00,  1.37it/s]"
     ]
    },
    {
     "name": "stdout",
     "output_type": "stream",
     "text": [
      "Done!\n"
     ]
    },
    {
     "name": "stderr",
     "output_type": "stream",
     "text": [
      "\n"
     ]
    }
   ],
   "source": [
    "X_data, Y_data = data(img_path, label_path, data_ids)"
   ]
  }
 ],
 "metadata": {
  "kernelspec": {
   "display_name": "Python 3",
   "language": "python",
   "name": "python3"
  },
  "language_info": {
   "codemirror_mode": {
    "name": "ipython",
    "version": 3
   },
   "file_extension": ".py",
   "mimetype": "text/x-python",
   "name": "python",
   "nbconvert_exporter": "python",
   "pygments_lexer": "ipython3",
   "version": "3.7.7"
  }
 },
 "nbformat": 4,
 "nbformat_minor": 4
}
