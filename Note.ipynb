{
 "cells": [
  {
   "cell_type": "markdown",
   "metadata": {},
   "source": [
    "# Implementation of \n",
    "\n",
    "## <center>  PseudoEdgeNet: Nuclei Segemtnation only with Point Annotations"
   ]
  },
  {
   "cell_type": "markdown",
   "metadata": {},
   "source": [
    "## <center> Training Data"
   ]
  },
  {
   "cell_type": "markdown",
   "metadata": {},
   "source": [
    "### Info\n",
    "\n",
    "**TCGA data set:**\n",
    "\n",
    "30 H&E stained whole slide images from TCGA, have 7 organs, one WSI per patient, come from 18 hospitals.\n",
    "\n",
    "Then crop 30 sub-images, each size is 1000 * 1000, and keep only one cropped image per WSI and patient\n",
    "\n",
    "H&E stained, captured at 40X magnification\n",
    "\n"
   ]
  },
  {
   "cell_type": "markdown",
   "metadata": {},
   "source": [
    "### Annotation\n",
    "\n",
    "Pixel coordinates of annoated nuclear boundaries\n",
    "\n",
    "For over-lapping nuclei, assign multi-nuclear pixel to the largest nucleus containing that pixel\n",
    "\n",
    "**How to deal with float coordinates**\n",
    "\n",
    "https://stackoverflow.com/questions/10735817/how-to-deal-with-floating-point-coordinate-values-in-image\n",
    "\n",
    "https://stackoverflow.com/questions/58991754/how-to-use-float-number-as-opencv-image-pixel-coordinates\n",
    "\n",
    "round them\n",
    "\n",
    "Convert them to keypoints, then use `cv2.drawkeypoint()`"
   ]
  },
  {
   "cell_type": "markdown",
   "metadata": {},
   "source": [
    "## <center> Preprocessing"
   ]
  },
  {
   "cell_type": "markdown",
   "metadata": {},
   "source": [
    "### Generate Point Annotation(How to find centroid of any shape)\n",
    "\n",
    "https://stackoverflow.com/questions/23020659/fastest-way-to-calculate-the-centroid-of-a-set-of-coordinate-tuples-in-python-wi\n",
    "\n",
    "center of mass of each nucleus instatnce mask"
   ]
  }
 ],
 "metadata": {
  "kernelspec": {
   "display_name": "Python 3",
   "language": "python",
   "name": "python3"
  },
  "language_info": {
   "codemirror_mode": {
    "name": "ipython",
    "version": 3
   },
   "file_extension": ".py",
   "mimetype": "text/x-python",
   "name": "python",
   "nbconvert_exporter": "python",
   "pygments_lexer": "ipython3",
   "version": "3.7.7"
  }
 },
 "nbformat": 4,
 "nbformat_minor": 4
}
